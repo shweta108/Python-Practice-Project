{
 "cells": [
  {
   "cell_type": "markdown",
   "id": "d38c07a7",
   "metadata": {},
   "source": [
    "# Olympic 2012 Medal Tally"
   ]
  },
  {
   "cell_type": "raw",
   "id": "891a97c7",
   "metadata": {},
   "source": [
    "DESCRIPTION\n",
    "Problem Statement: Evaluate the dataset of the Summer Olympics, London 2012, to:\n",
    "Find and print the name of the country that won the maximum number of gold medals\n",
    "Find and print the countries who won more than 20 gold medals\n",
    "Print the medal tally\n",
    "Print each country name with the corresponding number of gold medals\n",
    "Print each country name with the total number of medals won"
   ]
  },
  {
   "cell_type": "code",
   "execution_count": 4,
   "id": "ad790275",
   "metadata": {},
   "outputs": [],
   "source": [
    "import numpy as np\n",
    "country = np.array([\"Great Britian\", \"Russia\", \"United States\", \"China\", \"Korea\", \"Japan\", \"Germany\"])\n",
    "gold_medal = np.array([38,19,29,42,34,17,15])\n",
    "silver_medal = np.array([36,23,15,25,8,42,20])\n",
    "bronze_medal = np.array([22,24,34,35,26,28,45])"
   ]
  },
  {
   "cell_type": "markdown",
   "id": "0b99cce3",
   "metadata": {},
   "source": [
    "Find and print the name of the country that won the maximum number of gold medals"
   ]
  },
  {
   "cell_type": "code",
   "execution_count": 5,
   "id": "14748126",
   "metadata": {},
   "outputs": [
    {
     "name": "stdout",
     "output_type": "stream",
     "text": [
      "Index of the max element is: 3\n",
      "Name of the country having won the maximum gold medals: China\n"
     ]
    }
   ],
   "source": [
    "max_gold = gold_medal.argmax()\n",
    "print(\"Index of the max element is:\", max_gold)\n",
    "country_name = country[max_gold]\n",
    "print(\"Name of the country having won the maximum gold medals:\", country_name)"
   ]
  },
  {
   "cell_type": "markdown",
   "id": "5943d9a2",
   "metadata": {},
   "source": [
    "Find and print the countries who won more than 20 gold medals"
   ]
  },
  {
   "cell_type": "code",
   "execution_count": 9,
   "id": "2732785a",
   "metadata": {},
   "outputs": [
    {
     "name": "stdout",
     "output_type": "stream",
     "text": [
      "Names of the countries who won more than 20 Gold Medals: ['Great Britian' 'United States' 'China' 'Korea']\n"
     ]
    }
   ],
   "source": [
    "print(\"Names of the countries who won more than 20 Gold Medals:\",country[gold_medal>20])"
   ]
  },
  {
   "cell_type": "markdown",
   "id": "72268358",
   "metadata": {},
   "source": [
    "Print the medal tally\n",
    "Print each country name with the corresponding number of gold medals\n",
    "Print each country name with the total number of medals won"
   ]
  },
  {
   "cell_type": "code",
   "execution_count": 19,
   "id": "b9449cfd",
   "metadata": {},
   "outputs": [
    {
     "name": "stdout",
     "output_type": "stream",
     "text": [
      "Great Britian won 38 gold medals and total 96 number of medals\n",
      "\n",
      "Russia won 19 gold medals and total 66 number of medals\n",
      "\n",
      "United States won 29 gold medals and total 78 number of medals\n",
      "\n",
      "China won 42 gold medals and total 102 number of medals\n",
      "\n",
      "Korea won 34 gold medals and total 68 number of medals\n",
      "\n",
      "Japan won 17 gold medals and total 87 number of medals\n",
      "\n",
      "Germany won 15 gold medals and total 80 number of medals\n",
      "\n"
     ]
    }
   ],
   "source": [
    "for i in range (len(country)):\n",
    "    gold = gold_medal[i]\n",
    "    countries_name = country[i]\n",
    "    total_medal = gold_medal[i]+silver_medal[i]+bronze_medal[i]\n",
    "    print(countries_name, \"won\", gold, \"gold medals and total\", total_medal, \"number of medals\\n\")"
   ]
  },
  {
   "cell_type": "code",
   "execution_count": null,
   "id": "0f71c210",
   "metadata": {},
   "outputs": [],
   "source": []
  }
 ],
 "metadata": {
  "kernelspec": {
   "display_name": "Python 3 (ipykernel)",
   "language": "python",
   "name": "python3"
  },
  "language_info": {
   "codemirror_mode": {
    "name": "ipython",
    "version": 3
   },
   "file_extension": ".py",
   "mimetype": "text/x-python",
   "name": "python",
   "nbconvert_exporter": "python",
   "pygments_lexer": "ipython3",
   "version": "3.9.7"
  }
 },
 "nbformat": 4,
 "nbformat_minor": 5
}
