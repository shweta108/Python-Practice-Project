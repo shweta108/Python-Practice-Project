{
 "cells": [
  {
   "cell_type": "markdown",
   "id": "accc05df",
   "metadata": {},
   "source": [
    "# Country GDP"
   ]
  },
  {
   "cell_type": "markdown",
   "id": "fe2949fa",
   "metadata": {},
   "source": [
    "DESCRIPTION\n",
    "\n",
    "Problem Statement: Evaluate the dataset containing the GDPs of different countries to:\n",
    "Find and print the name of the country with the highest GDP\n",
    "Find and print the name of the country with the lowest GDP\n",
    "Print out text and input values iteratively\n",
    "Print out the entire list of the countries with their GDPs\n",
    "Print the highest GDP value, lowest GDP value, mean GDP value, standardized GDP value, and the sum of all the GDPs"
   ]
  },
  {
   "cell_type": "code",
   "execution_count": 2,
   "id": "a166b0be",
   "metadata": {},
   "outputs": [],
   "source": [
    "import numpy as np\n",
    "country = np.array(['Argentina','Australia','Austria','Bahamas','Bangladesh','Belarus','Belgium',\n",
    "                      'Bhutan','Brazil','Cambodia','Cameroon','Chile','China','Colombia','Denmark','Guinea','Haiti',\n",
    "                    'Honduras','Hungary','India','Indonesia','Ireland','Italy','Japan','Kenya',\n",
    "                      'South Korea','Liberia','Malaysia','Mexico', 'Morocco','Nepal','New Zealand',\n",
    "                   'Russia','Singapore','South Africa','Spain','Sweden','Switzerland','Thailand',\n",
    "                      'United Arab Emirates','United Kingdom','United States','Uruguay',\n",
    "                      'Venezuela','Vietnam','Zimbabwe'])\n",
    "gdp = np.array([2255.225482,629.9553062,11601.63022,25306.82494,27266.40335,19466.99052,588.3691778,\n",
    "            2890.345675,24733.62696,1445.760002,4803.398244,2618.876037,590.4521124,665.7982328,7122.938458,2639.54156,\n",
    "                  3362.4656,15378.16704,30860.12808,2579.115607,6525.541272,229.6769525,2242.689259,27570.4852,\n",
    "                  23016.84778,1334.646773,402.6953275,6047.200797,394.1156638,385.5793827,1414.072488,5745.981529,\n",
    "                  837.7464011,1206.991065,27715.52837,18937.24998,39578.07441,478.2194906,16684.21278,279.2204061,\n",
    "                  5345.213415,6288.25324,1908.304416,274.8728621,14646.42094,40034.85063])"
   ]
  },
  {
   "cell_type": "markdown",
   "id": "8053119d",
   "metadata": {},
   "source": [
    "Find and print the name of the country with the highest GDP"
   ]
  },
  {
   "cell_type": "code",
   "execution_count": 3,
   "id": "19c4791b",
   "metadata": {},
   "outputs": [
    {
     "name": "stdout",
     "output_type": "stream",
     "text": [
      "Index of the max element: 45\n",
      "Name of the country having highest GDP: Zimbabwe\n"
     ]
    }
   ],
   "source": [
    "high_gdp = gdp.argmax()\n",
    "print(\"Index of the max element:\", high_gdp)\n",
    "country_name = country[high_gdp]\n",
    "print(\"Name of the country having highest GDP:\", country_name)"
   ]
  },
  {
   "cell_type": "markdown",
   "id": "d879c869",
   "metadata": {},
   "source": [
    "Find and print the name of the country with the lowest GDP"
   ]
  },
  {
   "cell_type": "code",
   "execution_count": 5,
   "id": "d2992586",
   "metadata": {},
   "outputs": [
    {
     "name": "stdout",
     "output_type": "stream",
     "text": [
      "Index of the max element: 21\n",
      "Name of the country having Lowest GDP: Ireland\n"
     ]
    }
   ],
   "source": [
    "low_gdp = gdp.argmin()\n",
    "print(\"Index of the max element:\", low_gdp)\n",
    "country_name_low = country[low_gdp]\n",
    "print(\"Name of the country having Lowest GDP:\", country_name_low)"
   ]
  },
  {
   "cell_type": "markdown",
   "id": "80dce3fb",
   "metadata": {},
   "source": [
    "Print out text and input values iteratively"
   ]
  },
  {
   "cell_type": "code",
   "execution_count": null,
   "id": "4e861b07",
   "metadata": {},
   "outputs": [],
   "source": []
  },
  {
   "cell_type": "markdown",
   "id": "bf175a56",
   "metadata": {},
   "source": [
    "Print out the entire list of the countries with their GDPs"
   ]
  },
  {
   "cell_type": "code",
   "execution_count": 9,
   "id": "99968c70",
   "metadata": {},
   "outputs": [
    {
     "name": "stdout",
     "output_type": "stream",
     "text": [
      "Argentina per capita GDP is 2255.225482 \n",
      "\n",
      "Australia per capita GDP is 629.9553062 \n",
      "\n",
      "Austria per capita GDP is 11601.63022 \n",
      "\n",
      "Bahamas per capita GDP is 25306.82494 \n",
      "\n",
      "Bangladesh per capita GDP is 27266.40335 \n",
      "\n",
      "Belarus per capita GDP is 19466.99052 \n",
      "\n",
      "Belgium per capita GDP is 588.3691778 \n",
      "\n",
      "Bhutan per capita GDP is 2890.345675 \n",
      "\n",
      "Brazil per capita GDP is 24733.62696 \n",
      "\n",
      "Cambodia per capita GDP is 1445.760002 \n",
      "\n",
      "Cameroon per capita GDP is 4803.398244 \n",
      "\n",
      "Chile per capita GDP is 2618.876037 \n",
      "\n",
      "China per capita GDP is 590.4521124 \n",
      "\n",
      "Colombia per capita GDP is 665.7982328 \n",
      "\n",
      "Denmark per capita GDP is 7122.938458 \n",
      "\n",
      "Guinea per capita GDP is 2639.54156 \n",
      "\n",
      "Haiti per capita GDP is 3362.4656 \n",
      "\n",
      "Honduras per capita GDP is 15378.16704 \n",
      "\n",
      "Hungary per capita GDP is 30860.12808 \n",
      "\n",
      "India per capita GDP is 2579.115607 \n",
      "\n",
      "Indonesia per capita GDP is 6525.541272 \n",
      "\n",
      "Ireland per capita GDP is 229.6769525 \n",
      "\n",
      "Italy per capita GDP is 2242.689259 \n",
      "\n",
      "Japan per capita GDP is 27570.4852 \n",
      "\n",
      "Kenya per capita GDP is 23016.84778 \n",
      "\n",
      "South Korea per capita GDP is 1334.646773 \n",
      "\n",
      "Liberia per capita GDP is 402.6953275 \n",
      "\n",
      "Malaysia per capita GDP is 6047.200797 \n",
      "\n",
      "Mexico per capita GDP is 394.1156638 \n",
      "\n",
      "Morocco per capita GDP is 385.5793827 \n",
      "\n",
      "Nepal per capita GDP is 1414.072488 \n",
      "\n",
      "New Zealand per capita GDP is 5745.981529 \n",
      "\n",
      "Russia per capita GDP is 837.7464011 \n",
      "\n",
      "Singapore per capita GDP is 1206.991065 \n",
      "\n",
      "South Africa per capita GDP is 27715.52837 \n",
      "\n",
      "Spain per capita GDP is 18937.24998 \n",
      "\n",
      "Sweden per capita GDP is 39578.07441 \n",
      "\n",
      "Switzerland per capita GDP is 478.2194906 \n",
      "\n",
      "Thailand per capita GDP is 16684.21278 \n",
      "\n",
      "United Arab Emirates per capita GDP is 279.2204061 \n",
      "\n",
      "United Kingdom per capita GDP is 5345.213415 \n",
      "\n",
      "United States per capita GDP is 6288.25324 \n",
      "\n",
      "Uruguay per capita GDP is 1908.304416 \n",
      "\n",
      "Venezuela per capita GDP is 274.8728621 \n",
      "\n",
      "Vietnam per capita GDP is 14646.42094 \n",
      "\n",
      "Zimbabwe per capita GDP is 40034.85063 \n",
      "\n"
     ]
    }
   ],
   "source": [
    "for i in range(len(country)):\n",
    "    countries_name = country[i]\n",
    "    gdp_list = gdp[i]\n",
    "    print(countries_name,\"per capita GDP is\",gdp_list,\"\\n\")"
   ]
  },
  {
   "cell_type": "markdown",
   "id": "e146671a",
   "metadata": {},
   "source": [
    "Print the mean GDP value, standardized GDP value, and the sum of all the GDPs"
   ]
  },
  {
   "cell_type": "code",
   "execution_count": 10,
   "id": "70678038",
   "metadata": {},
   "outputs": [
    {
     "name": "stdout",
     "output_type": "stream",
     "text": [
      "Mean GDP Value is: 9485.450074665217\n",
      "Standardized GDP Value is: 11379.300462246356\n",
      "Sum of all GDPs is: 436330.70343460003\n"
     ]
    }
   ],
   "source": [
    "print(\"Mean GDP Value is:\", gdp.mean())\n",
    "print(\"Standardized GDP Value is:\", gdp.std())\n",
    "print(\"Sum of all GDPs is:\", gdp.sum())"
   ]
  },
  {
   "cell_type": "code",
   "execution_count": null,
   "id": "7269aea5",
   "metadata": {},
   "outputs": [],
   "source": []
  }
 ],
 "metadata": {
  "kernelspec": {
   "display_name": "Python 3 (ipykernel)",
   "language": "python",
   "name": "python3"
  },
  "language_info": {
   "codemirror_mode": {
    "name": "ipython",
    "version": 3
   },
   "file_extension": ".py",
   "mimetype": "text/x-python",
   "name": "python",
   "nbconvert_exporter": "python",
   "pygments_lexer": "ipython3",
   "version": "3.9.7"
  }
 },
 "nbformat": 4,
 "nbformat_minor": 5
}
